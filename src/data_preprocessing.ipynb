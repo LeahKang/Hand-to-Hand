{
 "cells": [
  {
   "cell_type": "markdown",
   "metadata": {},
   "source": [
    "## 스튜디오 촬영 데이터 기준 데이터 전처리"
   ]
  },
  {
   "cell_type": "markdown",
   "metadata": {},
   "source": [
    "## 0. F만 남기고 다 삭제"
   ]
  },
  {
   "cell_type": "code",
   "execution_count": 1,
   "metadata": {},
   "outputs": [],
   "source": [
    "import os\n",
    "import shutil"
   ]
  },
  {
   "cell_type": "code",
   "execution_count": 6,
   "metadata": {},
   "outputs": [],
   "source": [
    "root = 'C:/Users/omocomo/Downloads/' # 아래 데이터 폴더가 있는 경로\n",
    "DATA = 'SENTENCE_REAL001' "
   ]
  },
  {
   "cell_type": "markdown",
   "metadata": {},
   "source": [
    "#### 영상 F 빼고 지우기"
   ]
  },
  {
   "cell_type": "code",
   "execution_count": 6,
   "metadata": {},
   "outputs": [],
   "source": [
    "path = root + DATA + '/영상/'\n",
    "files = os.listdir(path)\n",
    "for file in files:\n",
    "    file_name, ext = os.path.splitext(file)\n",
    "    if file_name[-1]=='F': # F가 아닌 파일\n",
    "        continue\n",
    "    os.remove(path+file)"
   ]
  },
  {
   "cell_type": "markdown",
   "metadata": {},
   "source": [
    "#### 형태소Json F 빼고 지우기"
   ]
  },
  {
   "cell_type": "code",
   "execution_count": 7,
   "metadata": {},
   "outputs": [],
   "source": [
    "path = root + DATA + '/형태소Json/'\n",
    "files = os.listdir(path)\n",
    "for file in files:\n",
    "    file_name, ext = os.path.splitext(file)\n",
    "    file_name.split('_')\n",
    "    if file_name.split('_')[4]=='F': # F가 아닌 파일\n",
    "        continue\n",
    "    os.remove(path+file)"
   ]
  },
  {
   "cell_type": "markdown",
   "metadata": {},
   "source": [
    "#### 키포인트Json F 빼고 지우기(폴더 삭제)"
   ]
  },
  {
   "cell_type": "code",
   "execution_count": 8,
   "metadata": {},
   "outputs": [],
   "source": [
    "path = root + DATA + '/키포인트Json/'\n",
    "folders = os.listdir(path)\n",
    "for folder in folders:\n",
    "    folder_name, ext = os.path.splitext(folder)\n",
    "    if folder_name[-1]=='F': # F가 아닌 폴더\n",
    "        continue\n",
    "    shutil.rmtree(path+folder)"
   ]
  },
  {
   "cell_type": "markdown",
   "metadata": {},
   "source": [
    "## 1. 영상에서 이미지 Frame 추출"
   ]
  },
  {
   "cell_type": "code",
   "execution_count": 8,
   "metadata": {},
   "outputs": [],
   "source": [
    "import json\n",
    "import math"
   ]
  },
  {
   "cell_type": "markdown",
   "metadata": {},
   "source": [
    "#### 형태소 Json에서 start, end 지점 찾기!"
   ]
  },
  {
   "cell_type": "code",
   "execution_count": 9,
   "metadata": {},
   "outputs": [],
   "source": [
    "video = [] # 영상 명\n",
    "start = [] # 시작 지점\n",
    "end = [] # 끝 지점\n",
    "path = root + DATA + '/형태소Json/'\n",
    "files = os.listdir(path)\n",
    "for file in files:\n",
    "    with open(path+file, encoding='UTF-8') as json_file:\n",
    "        json_data = json.load(json_file)\n",
    "        clip_name = json_data[\"metaData\"]['name']\n",
    "        video.append(clip_name)\n",
    "        # 첫번째의 start\n",
    "        data_start = json_data[\"data\"][0]['start']\n",
    "        # 마지막의 end\n",
    "        data_end = json_data[\"data\"][-1]['end']\n",
    "        clip_start = math.trunc(data_start * 10) / 10\n",
    "        clip_end = math.ceil(data_end * 10) / 10\n",
    "        start.append(clip_start)\n",
    "        end.append(clip_end)"
   ]
  },
  {
   "cell_type": "code",
   "execution_count": 10,
   "metadata": {},
   "outputs": [
    {
     "data": {
      "text/plain": [
       "(120, 120, 120)"
      ]
     },
     "execution_count": 10,
     "metadata": {},
     "output_type": "execute_result"
    }
   ],
   "source": [
    "len(video), len(start), len(end)"
   ]
  },
  {
   "cell_type": "markdown",
   "metadata": {},
   "source": [
    "#### 이미지에서 frame 추출 저장하기 -- 앞 뒤 정자세 너무 잘리는 느낌인데..."
   ]
  },
  {
   "cell_type": "code",
   "execution_count": 21,
   "metadata": {},
   "outputs": [],
   "source": [
    "import cv2\n",
    "from PIL import Image"
   ]
  },
  {
   "cell_type": "code",
   "execution_count": 33,
   "metadata": {},
   "outputs": [
    {
     "name": "stdout",
     "output_type": "stream",
     "text": [
      "NIA_SL_SEN0001_REAL06_F.mp4 169개 이미지 증 25개 이미지 생성\n",
      "NIA_SL_SEN0001_REAL10_F.mp4 148개 이미지 증 34개 이미지 생성\n",
      "NIA_SL_SEN0002_REAL06_F.mp4 175개 이미지 증 28개 이미지 생성\n",
      "NIA_SL_SEN0002_REAL10_F.mp4 140개 이미지 증 34개 이미지 생성\n"
     ]
    },
    {
     "ename": "KeyboardInterrupt",
     "evalue": "",
     "output_type": "error",
     "traceback": [
      "\u001b[1;31m---------------------------------------------------------------------------\u001b[0m",
      "\u001b[1;31mKeyboardInterrupt\u001b[0m                         Traceback (most recent call last)",
      "\u001b[1;32m<ipython-input-33-fb4974a865b9>\u001b[0m in \u001b[0;36m<module>\u001b[1;34m\u001b[0m\n\u001b[0;32m     15\u001b[0m                 \u001b[0msave_n\u001b[0m\u001b[1;33m+=\u001b[0m\u001b[1;36m1\u001b[0m\u001b[1;33m\u001b[0m\u001b[1;33m\u001b[0m\u001b[0m\n\u001b[0;32m     16\u001b[0m                 \u001b[0mimg_file_name\u001b[0m \u001b[1;33m=\u001b[0m \u001b[0mv\u001b[0m\u001b[1;33m.\u001b[0m\u001b[0msplit\u001b[0m\u001b[1;33m(\u001b[0m\u001b[1;34m'.'\u001b[0m\u001b[1;33m)\u001b[0m\u001b[1;33m[\u001b[0m\u001b[1;36m0\u001b[0m\u001b[1;33m]\u001b[0m\u001b[1;33m+\u001b[0m\u001b[1;34m'_'\u001b[0m\u001b[1;33m+\u001b[0m\u001b[0mstr\u001b[0m\u001b[1;33m(\u001b[0m\u001b[0mcount\u001b[0m\u001b[1;33m)\u001b[0m\u001b[1;33m.\u001b[0m\u001b[0mzfill\u001b[0m\u001b[1;33m(\u001b[0m\u001b[1;36m12\u001b[0m\u001b[1;33m)\u001b[0m\u001b[1;33m+\u001b[0m\u001b[1;34m'_frame.png'\u001b[0m\u001b[1;33m\u001b[0m\u001b[1;33m\u001b[0m\u001b[0m\n\u001b[1;32m---> 17\u001b[1;33m                 \u001b[0mresize_image\u001b[0m \u001b[1;33m=\u001b[0m \u001b[0mcv2\u001b[0m\u001b[1;33m.\u001b[0m\u001b[0mresize\u001b[0m\u001b[1;33m(\u001b[0m\u001b[0mimage\u001b[0m\u001b[1;33m,\u001b[0m \u001b[0mdsize\u001b[0m\u001b[1;33m=\u001b[0m\u001b[1;33m(\u001b[0m\u001b[1;36m512\u001b[0m\u001b[1;33m,\u001b[0m \u001b[1;36m512\u001b[0m\u001b[1;33m)\u001b[0m\u001b[1;33m)\u001b[0m\u001b[1;33m\u001b[0m\u001b[1;33m\u001b[0m\u001b[0m\n\u001b[0m\u001b[0;32m     18\u001b[0m                 \u001b[0mcv2\u001b[0m\u001b[1;33m.\u001b[0m\u001b[0mimwrite\u001b[0m\u001b[1;33m(\u001b[0m\u001b[0mimg_path\u001b[0m\u001b[1;33m+\u001b[0m\u001b[0mv\u001b[0m\u001b[1;33m+\u001b[0m\u001b[1;34m'/'\u001b[0m\u001b[1;33m+\u001b[0m\u001b[0mimg_file_name\u001b[0m\u001b[1;33m,\u001b[0m \u001b[0mresize_image\u001b[0m\u001b[1;33m)\u001b[0m\u001b[1;33m\u001b[0m\u001b[1;33m\u001b[0m\u001b[0m\n\u001b[0;32m     19\u001b[0m         \u001b[1;32melse\u001b[0m\u001b[1;33m:\u001b[0m\u001b[1;33m\u001b[0m\u001b[1;33m\u001b[0m\u001b[0m\n",
      "\u001b[1;31mKeyboardInterrupt\u001b[0m: "
     ]
    }
   ],
   "source": [
    "path = root + DATA + '/영상/'\n",
    "img_path = root + DATA + '/Image/'\n",
    "for v, s, e in zip(video, start, end):\n",
    "    vidcap = cv2.VideoCapture(path + v)\n",
    "    count = -1\n",
    "    save_n = 0\n",
    "    while(vidcap.isOpened()):\n",
    "        if not(os.path.isdir(img_path + '%s' % v)): # 이미지 담길 폴더 이름은 영상 이름\n",
    "            os.makedirs(os.path.join(img_path + '%s' % v))\n",
    " \n",
    "        count+=1\n",
    "        success, image = vidcap.read()\n",
    "        if success:\n",
    "            if s*30 <= count and count <= e*30:\n",
    "                save_n+=1\n",
    "                img_file_name = v.split('.')[0]+'_'+str(count).zfill(12)+'_frame.png'\n",
    "                resize_image = cv2.resize(image, dsize=(512, 512))\n",
    "                cv2.imwrite(img_path+v+'/'+img_file_name, resize_image)\n",
    "        else:\n",
    "            print('%s %d개 이미지 증 %d개 이미지 생성' %(v, count, save_n))\n",
    "            cv2.destroyAllWindows()\n",
    "            vidcap.release()"
   ]
  },
  {
   "cell_type": "markdown",
   "metadata": {},
   "source": [
    "#### 이미지에 맞춰서 json도 삭제"
   ]
  },
  {
   "cell_type": "code",
   "execution_count": 50,
   "metadata": {},
   "outputs": [],
   "source": [
    "path = root + DATA + '/키포인트Json/'\n",
    "for v, s, e in zip(video, start, end):\n",
    "    json_file = path+v\n",
    "    for i, json_file_name in enumerate(sorted(os.listdir(json_file))):\n",
    "        if i < s * 30 or e * 30 < i: # 종료 시간보다 전이거나 후면 삭제!\n",
    "            os.remove(path+v+'/'+json_file_name)"
   ]
  },
  {
   "cell_type": "markdown",
   "metadata": {},
   "source": [
    "## 2. Keypoint json 전처리 Txt로 저장"
   ]
  },
  {
   "cell_type": "code",
   "execution_count": 34,
   "metadata": {},
   "outputs": [],
   "source": [
    "import glob\n",
    "import numpy as np"
   ]
  },
  {
   "cell_type": "code",
   "execution_count": 51,
   "metadata": {},
   "outputs": [
    {
     "data": {
      "text/plain": [
       "120"
      ]
     },
     "execution_count": 51,
     "metadata": {},
     "output_type": "execute_result"
    }
   ],
   "source": [
    "# 경로 설정\n",
    "kp_path = root + DATA + '/키포인트Json' # 기존 키포인트 Json\n",
    "new_kp_dir = root + DATA + '/키포인트Txt' # 새로 저장할 키포인트 txt\n",
    "len(os.listdir(kp_path))"
   ]
  },
  {
   "cell_type": "markdown",
   "metadata": {},
   "source": [
    "#### 키포인트Json 폴더 아래 모든 json 파일 불러오기"
   ]
  },
  {
   "cell_type": "code",
   "execution_count": 36,
   "metadata": {},
   "outputs": [],
   "source": [
    "json_files = glob.glob(os.path.join(kp_path,'**','*.json'), recursive=True)"
   ]
  },
  {
   "cell_type": "code",
   "execution_count": 38,
   "metadata": {},
   "outputs": [
    {
     "data": {
      "text/plain": [
       "21517"
      ]
     },
     "execution_count": 38,
     "metadata": {},
     "output_type": "execute_result"
    }
   ],
   "source": [
    "len(json_files)"
   ]
  },
  {
   "cell_type": "markdown",
   "metadata": {},
   "source": [
    "#### keypoints 처리(연결, 0값제외, 값 채우기)"
   ]
  },
  {
   "cell_type": "code",
   "execution_count": 39,
   "metadata": {},
   "outputs": [],
   "source": [
    "keypointss = []\n",
    "ZERO = False\n",
    "for i, json_file in enumerate(json_files):\n",
    "    with open(json_file, \"r\") as keypoints_json:\n",
    "        data = json.load(keypoints_json)\n",
    " \n",
    "    # pose에서 생략 가능한 하반신 30-35, 39-44, 57-74\n",
    "    pose = data['people'][0]['pose_keypoints_2d']\n",
    "    pose = pose[:30]+pose[36:39]+pose[45:57] # pose 75개 -> 45개\n",
    "    face = data['people'][0]['face_keypoints_2d']\n",
    "    hand_left = data['people'][0]['hand_left_keypoints_2d']\n",
    "    hand_right = data['people'][0]['hand_right_keypoints_2d']\n",
    "    \n",
    "    # 전체 keypoints 합치고 confidence 값 제외\n",
    "    entire_keypoints = np.array(pose+face+hand_left+hand_right, dtype=np.float32).reshape(-1,3)[:,:2].flatten() # 254\n",
    "    keypointss.append(entire_keypoints) # 일단 keypointss 리스트에 다 저장 - 0값 채우기 위해서\n",
    "    \n",
    "    if i>1 and ZERO: # 앞에 0인 값이 있으면 i-2, i의 평균값으로 i-1의 0 채워주기\n",
    "        zero_tf = keypointss[i-1]==0\n",
    "        keypointss[i-1][zero_tf] = (keypointss[i-2][zero_tf]+keypointss[i][zero_tf])/2 # 앞,뒤 평균값으로 채워주기\n",
    "        ZERO = False\n",
    "        \n",
    "    if 0 in entire_keypoints: # 0이 있으면 ZERO!\n",
    "        ZERO = True"
   ]
  },
  {
   "cell_type": "markdown",
   "metadata": {},
   "source": [
    "#### 0~1 scaling\n",
    "- 이미지 크기 2048 1152\n",
    "- 여기서 1보다 큰 값은 이미지 밖에 찍히는 부분!"
   ]
  },
  {
   "cell_type": "code",
   "execution_count": 40,
   "metadata": {},
   "outputs": [],
   "source": [
    "def normalization(array):\n",
    "    scale_array = array.copy()\n",
    "    scale_array[::2] /= 2048 # x좌표\n",
    "    scale_array[1::2] /= 1152 # y좌표\n",
    "    return scale_array"
   ]
  },
  {
   "cell_type": "code",
   "execution_count": 41,
   "metadata": {},
   "outputs": [],
   "source": [
    "for json_file, keypoints in zip(json_files, keypointss):\n",
    "    if 0 in keypoints:\n",
    "        print(json_file, keypoints)\n",
    "        break"
   ]
  },
  {
   "cell_type": "markdown",
   "metadata": {},
   "source": [
    "#### 화자 구분 one-hot -- 화자 몇 명으로?"
   ]
  },
  {
   "cell_type": "code",
   "execution_count": 42,
   "metadata": {},
   "outputs": [],
   "source": [
    "def check_one_hot(file_name):\n",
    "    txt = file_name.split('_')[3]\n",
    "    tmp = []\n",
    "    for c in txt:\n",
    "        if c.isdigit():\n",
    "            tmp.append(c)\n",
    "    return int(''.join(tmp))"
   ]
  },
  {
   "cell_type": "markdown",
   "metadata": {},
   "source": [
    "#### 저장"
   ]
  },
  {
   "cell_type": "code",
   "execution_count": 53,
   "metadata": {},
   "outputs": [
    {
     "ename": "KeyboardInterrupt",
     "evalue": "",
     "output_type": "error",
     "traceback": [
      "\u001b[1;31m---------------------------------------------------------------------------\u001b[0m",
      "\u001b[1;31mKeyboardInterrupt\u001b[0m                         Traceback (most recent call last)",
      "\u001b[1;32m<ipython-input-53-cebb21beca15>\u001b[0m in \u001b[0;36m<module>\u001b[1;34m\u001b[0m\n\u001b[0;32m     12\u001b[0m     \u001b[0mdata\u001b[0m \u001b[1;33m=\u001b[0m \u001b[1;34m\"%s, \"\u001b[0m \u001b[1;33m%\u001b[0m\u001b[0mos\u001b[0m\u001b[1;33m.\u001b[0m\u001b[0mpath\u001b[0m\u001b[1;33m.\u001b[0m\u001b[0mbasename\u001b[0m\u001b[1;33m(\u001b[0m\u001b[0mjson_file\u001b[0m\u001b[1;33m)\u001b[0m\u001b[1;33m[\u001b[0m\u001b[1;33m:\u001b[0m\u001b[1;33m-\u001b[0m\u001b[1;36m5\u001b[0m\u001b[1;33m]\u001b[0m \u001b[1;33m+\u001b[0m \u001b[1;34m', '\u001b[0m\u001b[1;33m.\u001b[0m\u001b[0mjoin\u001b[0m\u001b[1;33m(\u001b[0m\u001b[0mlist\u001b[0m\u001b[1;33m(\u001b[0m\u001b[0mmap\u001b[0m\u001b[1;33m(\u001b[0m\u001b[0mstr\u001b[0m\u001b[1;33m,\u001b[0m\u001b[0mnormalization\u001b[0m\u001b[1;33m(\u001b[0m\u001b[0mkeypoints\u001b[0m\u001b[1;33m)\u001b[0m\u001b[1;33m)\u001b[0m\u001b[1;33m)\u001b[0m\u001b[1;33m)\u001b[0m \u001b[1;33m+\u001b[0m \u001b[1;34m', '\u001b[0m\u001b[1;33m.\u001b[0m\u001b[0mjoin\u001b[0m\u001b[1;33m(\u001b[0m\u001b[0mlist\u001b[0m\u001b[1;33m(\u001b[0m\u001b[0mmap\u001b[0m\u001b[1;33m(\u001b[0m\u001b[0mstr\u001b[0m\u001b[1;33m,\u001b[0m\u001b[0mone_hot\u001b[0m\u001b[1;33m)\u001b[0m\u001b[1;33m)\u001b[0m\u001b[1;33m)\u001b[0m \u001b[1;33m+\u001b[0m\u001b[1;34m'\\n'\u001b[0m \u001b[1;31m# keypoints 값에 normalization 적용해서\u001b[0m\u001b[1;33m\u001b[0m\u001b[1;33m\u001b[0m\u001b[0m\n\u001b[0;32m     13\u001b[0m     \u001b[0mf\u001b[0m\u001b[1;33m.\u001b[0m\u001b[0mwrite\u001b[0m\u001b[1;33m(\u001b[0m\u001b[0mdata\u001b[0m\u001b[1;33m)\u001b[0m\u001b[1;33m\u001b[0m\u001b[1;33m\u001b[0m\u001b[0m\n\u001b[1;32m---> 14\u001b[1;33m     \u001b[0mf\u001b[0m\u001b[1;33m.\u001b[0m\u001b[0mclose\u001b[0m\u001b[1;33m(\u001b[0m\u001b[1;33m)\u001b[0m\u001b[1;33m\u001b[0m\u001b[1;33m\u001b[0m\u001b[0m\n\u001b[0m",
      "\u001b[1;31mKeyboardInterrupt\u001b[0m: "
     ]
    }
   ],
   "source": [
    "os.makedirs(new_kp_dir, exist_ok=True) # 폴더 만들고\n",
    "new_kp_dir = new_kp_dir + '/'\n",
    "for json_file, keypoints in zip(json_files, keypointss):\n",
    "    txt_file_name = os.path.basename(os.path.dirname(json_file))\n",
    "    \n",
    "    one_hot = [0 for i in range(22)]\n",
    "    person = check_one_hot(txt_file_name)\n",
    "    one_hot[person-1] = 1\n",
    "    \n",
    "    f = open(new_kp_dir+txt_file_name[:-4]+'.txt', 'a')\n",
    "    # 저장\n",
    "    data = \"%s, \" %os.path.basename(json_file)[:-5] + ', '.join(list(map(str,normalization(keypoints)))) + ', '.join(list(map(str,one_hot))) +'\\n' # keypoints 값에 normalization 적용해서\n",
    "    f.write(data)\n",
    "    f.close()"
   ]
  },
  {
   "cell_type": "code",
   "execution_count": null,
   "metadata": {},
   "outputs": [],
   "source": []
  }
 ],
 "metadata": {
  "kernelspec": {
   "display_name": "Python 3",
   "language": "python",
   "name": "python3"
  },
  "language_info": {
   "codemirror_mode": {
    "name": "ipython",
    "version": 3
   },
   "file_extension": ".py",
   "mimetype": "text/x-python",
   "name": "python",
   "nbconvert_exporter": "python",
   "pygments_lexer": "ipython3",
   "version": "3.7.9"
  }
 },
 "nbformat": 4,
 "nbformat_minor": 4
}
