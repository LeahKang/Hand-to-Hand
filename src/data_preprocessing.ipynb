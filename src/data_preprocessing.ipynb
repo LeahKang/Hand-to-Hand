{
 "cells": [
  {
   "cell_type": "markdown",
   "metadata": {},
   "source": [
    "## 스튜디오 촬영 데이터 기준 데이터 전처리"
   ]
  },
  {
   "cell_type": "markdown",
   "metadata": {},
   "source": [
    "## 0. F만 남기고 다 삭제"
   ]
  },
  {
   "cell_type": "code",
   "execution_count": 1,
   "metadata": {},
   "outputs": [],
   "source": [
    "import os\n",
    "import shutil"
   ]
  },
  {
   "cell_type": "code",
   "execution_count": 2,
   "metadata": {},
   "outputs": [],
   "source": [
    "root = 'C:/Users/omocomo/Downloads/' # 아래 데이터 폴더가 있는 경로\n",
    "DATA = 'SENTENCE_REAL001' "
   ]
  },
  {
   "cell_type": "markdown",
   "metadata": {},
   "source": [
    "#### 영상 F 빼고 지우기"
   ]
  },
  {
   "cell_type": "code",
   "execution_count": 3,
   "metadata": {},
   "outputs": [],
   "source": [
    "path = root + DATA + '/영상/'\n",
    "files = os.listdir(path)\n",
    "for file in files:\n",
    "    file_name, ext = os.path.splitext(file)\n",
    "    if file_name[-1]=='F': # F가 아닌 파일\n",
    "        continue\n",
    "    os.remove(path+file)"
   ]
  },
  {
   "cell_type": "markdown",
   "metadata": {},
   "source": [
    "#### 형태소Json F 빼고 지우기"
   ]
  },
  {
   "cell_type": "code",
   "execution_count": 4,
   "metadata": {},
   "outputs": [],
   "source": [
    "path = root + DATA + '/형태소Json/'\n",
    "files = os.listdir(path)\n",
    "for file in files:\n",
    "    file_name, ext = os.path.splitext(file)\n",
    "    file_name.split('_')\n",
    "    if file_name.split('_')[4]=='F': # F가 아닌 파일\n",
    "        continue\n",
    "    os.remove(path+file)"
   ]
  },
  {
   "cell_type": "markdown",
   "metadata": {},
   "source": [
    "#### 키포인트Json F 빼고 지우기(폴더 삭제)"
   ]
  },
  {
   "cell_type": "code",
   "execution_count": 5,
   "metadata": {},
   "outputs": [],
   "source": [
    "path = root + DATA + '/키포인트Json/'\n",
    "folders = os.listdir(path)\n",
    "for folder in folders:\n",
    "    folder_name, ext = os.path.splitext(folder)\n",
    "    if folder_name[-1]=='F': # F가 아닌 폴더\n",
    "        continue\n",
    "    shutil.rmtree(path+folder)"
   ]
  },
  {
   "cell_type": "markdown",
   "metadata": {},
   "source": [
    "## 1. 영상에서 이미지 Frame 추출"
   ]
  },
  {
   "cell_type": "code",
   "execution_count": 6,
   "metadata": {},
   "outputs": [],
   "source": [
    "import json\n",
    "import math"
   ]
  },
  {
   "cell_type": "markdown",
   "metadata": {},
   "source": [
    "#### 형태소 Json에서 start, end 지점 찾기!"
   ]
  },
  {
   "cell_type": "code",
   "execution_count": 7,
   "metadata": {},
   "outputs": [],
   "source": [
    "video = [] # 영상 명\n",
    "start = [] # 시작 지점\n",
    "end = [] # 끝 지점\n",
    "path = root + DATA + '/형태소Json/'\n",
    "files = os.listdir(path)\n",
    "for file in files:\n",
    "    with open(path+file, encoding='UTF-8') as json_file:\n",
    "        json_data = json.load(json_file)\n",
    "        clip_name = json_data[\"metaData\"]['name']\n",
    "        video.append(clip_name)\n",
    "        # 첫번째의 start\n",
    "        data_start = json_data[\"data\"][0]['start']\n",
    "        # 마지막의 end\n",
    "        data_end = json_data[\"data\"][-1]['end']\n",
    "        clip_start = math.trunc(data_start * 10) / 10\n",
    "        clip_end = math.ceil(data_end * 10) / 10\n",
    "        start.append(clip_start)\n",
    "        end.append(clip_end)"
   ]
  },
  {
   "cell_type": "code",
   "execution_count": 8,
   "metadata": {},
   "outputs": [
    {
     "data": {
      "text/plain": [
       "(120, 120, 120)"
      ]
     },
     "execution_count": 8,
     "metadata": {},
     "output_type": "execute_result"
    }
   ],
   "source": [
    "len(video), len(start), len(end)"
   ]
  },
  {
   "cell_type": "markdown",
   "metadata": {},
   "source": [
    "#### 이미지에서 frame 추출 저장하기 -- 앞 뒤 정자세 너무 잘리는 느낌인데..."
   ]
  },
  {
   "cell_type": "code",
   "execution_count": 10,
   "metadata": {},
   "outputs": [],
   "source": [
    "import cv2\n",
    "from PIL import Image"
   ]
  },
  {
   "cell_type": "markdown",
   "metadata": {},
   "source": [
    "#### 아래 시간 꽤 걸림!"
   ]
  },
  {
   "cell_type": "code",
   "execution_count": 11,
   "metadata": {},
   "outputs": [
    {
     "name": "stdout",
     "output_type": "stream",
     "text": [
      "NIA_SL_SEN0001_REAL06_F.mp4 169개 이미지 증 169개 이미지 생성\n",
      "NIA_SL_SEN0001_REAL10_F.mp4 148개 이미지 증 34개 이미지 생성\n",
      "NIA_SL_SEN0002_REAL06_F.mp4 175개 이미지 증 28개 이미지 생성\n",
      "NIA_SL_SEN0002_REAL10_F.mp4 140개 이미지 증 140개 이미지 생성\n",
      "NIA_SL_SEN0003_REAL06_F.mp4 165개 이미지 증 37개 이미지 생성\n",
      "NIA_SL_SEN0003_REAL10_F.mp4 134개 이미지 증 37개 이미지 생성\n",
      "NIA_SL_SEN0004_REAL06_F.mp4 184개 이미지 증 184개 이미지 생성\n",
      "NIA_SL_SEN0004_REAL10_F.mp4 151개 이미지 증 34개 이미지 생성\n",
      "NIA_SL_SEN0005_REAL06_F.mp4 140개 이미지 증 25개 이미지 생성\n",
      "NIA_SL_SEN0005_REAL10_F.mp4 132개 이미지 증 132개 이미지 생성\n",
      "NIA_SL_SEN0006_REAL06_F.mp4 200개 이미지 증 25개 이미지 생성\n",
      "NIA_SL_SEN0006_REAL10_F.mp4 140개 이미지 증 34개 이미지 생성\n",
      "NIA_SL_SEN0007_REAL06_F.mp4 154개 이미지 증 154개 이미지 생성\n",
      "NIA_SL_SEN0007_REAL10_F.mp4 161개 이미지 증 31개 이미지 생성\n",
      "NIA_SL_SEN0008_REAL06_F.mp4 145개 이미지 증 31개 이미지 생성\n",
      "NIA_SL_SEN0008_REAL10_F.mp4 151개 이미지 증 151개 이미지 생성\n",
      "NIA_SL_SEN0009_REAL06_F.mp4 172개 이미지 증 58개 이미지 생성\n",
      "NIA_SL_SEN0009_REAL10_F.mp4 172개 이미지 증 63개 이미지 생성\n",
      "NIA_SL_SEN0010_REAL06_F.mp4 179개 이미지 증 179개 이미지 생성\n",
      "NIA_SL_SEN0010_REAL10_F.mp4 173개 이미지 증 61개 이미지 생성\n",
      "NIA_SL_SEN0011_REAL06_F.mp4 155개 이미지 증 52개 이미지 생성\n",
      "NIA_SL_SEN0011_REAL10_F.mp4 161개 이미지 증 161개 이미지 생성\n",
      "NIA_SL_SEN0012_REAL06_F.mp4 178개 이미지 증 61개 이미지 생성\n",
      "NIA_SL_SEN0012_REAL10_F.mp4 169개 이미지 증 52개 이미지 생성\n",
      "NIA_SL_SEN0013_REAL06_F.mp4 146개 이미지 증 146개 이미지 생성\n",
      "NIA_SL_SEN0013_REAL10_F.mp4 166개 이미지 증 60개 이미지 생성\n",
      "NIA_SL_SEN0014_REAL06_F.mp4 165개 이미지 증 49개 이미지 생성\n",
      "NIA_SL_SEN0014_REAL10_F.mp4 165개 이미지 증 165개 이미지 생성\n",
      "NIA_SL_SEN0015_REAL06_F.mp4 143개 이미지 증 34개 이미지 생성\n",
      "NIA_SL_SEN0015_REAL10_F.mp4 167개 이미지 증 40개 이미지 생성\n",
      "NIA_SL_SEN0016_REAL06_F.mp4 169개 이미지 증 169개 이미지 생성\n",
      "NIA_SL_SEN0016_REAL10_F.mp4 164개 이미지 증 43개 이미지 생성\n",
      "NIA_SL_SEN0017_REAL06_F.mp4 194개 이미지 증 55개 이미지 생성\n",
      "NIA_SL_SEN0017_REAL10_F.mp4 170개 이미지 증 170개 이미지 생성\n",
      "NIA_SL_SEN0018_REAL06_F.mp4 194개 이미지 증 55개 이미지 생성\n",
      "NIA_SL_SEN0018_REAL10_F.mp4 185개 이미지 증 58개 이미지 생성\n",
      "NIA_SL_SEN0019_REAL06_F.mp4 122개 이미지 증 122개 이미지 생성\n",
      "NIA_SL_SEN0019_REAL10_F.mp4 162개 이미지 증 31개 이미지 생성\n",
      "NIA_SL_SEN0020_REAL06_F.mp4 153개 이미지 증 31개 이미지 생성\n",
      "NIA_SL_SEN0020_REAL10_F.mp4 147개 이미지 증 147개 이미지 생성\n",
      "NIA_SL_SEN0021_REAL06_F.mp4 140개 이미지 증 28개 이미지 생성\n",
      "NIA_SL_SEN0021_REAL10_F.mp4 135개 이미지 증 22개 이미지 생성\n",
      "NIA_SL_SEN0022_REAL06_F.mp4 153개 이미지 증 153개 이미지 생성\n",
      "NIA_SL_SEN0022_REAL10_F.mp4 148개 이미지 증 28개 이미지 생성\n",
      "NIA_SL_SEN0023_REAL06_F.mp4 172개 이미지 증 49개 이미지 생성\n",
      "NIA_SL_SEN0023_REAL10_F.mp4 152개 이미지 증 152개 이미지 생성\n",
      "NIA_SL_SEN0024_REAL06_F.mp4 192개 이미지 증 52개 이미지 생성\n",
      "NIA_SL_SEN0024_REAL10_F.mp4 169개 이미지 증 49개 이미지 생성\n",
      "NIA_SL_SEN0025_REAL06_F.mp4 211개 이미지 증 211개 이미지 생성\n",
      "NIA_SL_SEN0025_REAL10_F.mp4 189개 이미지 증 76개 이미지 생성\n",
      "NIA_SL_SEN0026_REAL06_F.mp4 213개 이미지 증 55개 이미지 생성\n",
      "NIA_SL_SEN0026_REAL10_F.mp4 194개 이미지 증 194개 이미지 생성\n",
      "NIA_SL_SEN0027_REAL06_F.mp4 171개 이미지 증 43개 이미지 생성\n",
      "NIA_SL_SEN0027_REAL10_F.mp4 156개 이미지 증 46개 이미지 생성\n",
      "NIA_SL_SEN0028_REAL06_F.mp4 211개 이미지 증 211개 이미지 생성\n",
      "NIA_SL_SEN0028_REAL10_F.mp4 151개 이미지 증 28개 이미지 생성\n",
      "NIA_SL_SEN0029_REAL06_F.mp4 160개 이미지 증 34개 이미지 생성\n",
      "NIA_SL_SEN0029_REAL10_F.mp4 158개 이미지 증 158개 이미지 생성\n",
      "NIA_SL_SEN0030_REAL06_F.mp4 167개 이미지 증 55개 이미지 생성\n",
      "NIA_SL_SEN0030_REAL10_F.mp4 155개 이미지 증 61개 이미지 생성\n",
      "NIA_SL_SEN0031_REAL06_F.mp4 158개 이미지 증 158개 이미지 생성\n",
      "NIA_SL_SEN0031_REAL10_F.mp4 156개 이미지 증 49개 이미지 생성\n",
      "NIA_SL_SEN0032_REAL06_F.mp4 191개 이미지 증 46개 이미지 생성\n",
      "NIA_SL_SEN0032_REAL10_F.mp4 168개 이미지 증 168개 이미지 생성\n",
      "NIA_SL_SEN0033_REAL06_F.mp4 179개 이미지 증 46개 이미지 생성\n",
      "NIA_SL_SEN0033_REAL10_F.mp4 146개 이미지 증 40개 이미지 생성\n",
      "NIA_SL_SEN0034_REAL06_F.mp4 210개 이미지 증 210개 이미지 생성\n",
      "NIA_SL_SEN0034_REAL10_F.mp4 174개 이미지 증 43개 이미지 생성\n",
      "NIA_SL_SEN0035_REAL06_F.mp4 174개 이미지 증 37개 이미지 생성\n",
      "NIA_SL_SEN0035_REAL10_F.mp4 160개 이미지 증 160개 이미지 생성\n",
      "NIA_SL_SEN0036_REAL06_F.mp4 193개 이미지 증 40개 이미지 생성\n",
      "NIA_SL_SEN0036_REAL10_F.mp4 163개 이미지 증 61개 이미지 생성\n",
      "NIA_SL_SEN0037_REAL06_F.mp4 212개 이미지 증 212개 이미지 생성\n",
      "NIA_SL_SEN0037_REAL10_F.mp4 172개 이미지 증 67개 이미지 생성\n",
      "NIA_SL_SEN0038_REAL06_F.mp4 243개 이미지 증 97개 이미지 생성\n",
      "NIA_SL_SEN0038_REAL10_F.mp4 206개 이미지 증 206개 이미지 생성\n",
      "NIA_SL_SEN0039_REAL06_F.mp4 237개 이미지 증 85개 이미지 생성\n",
      "NIA_SL_SEN0039_REAL10_F.mp4 211개 이미지 증 73개 이미지 생성\n",
      "NIA_SL_SEN0040_REAL06_F.mp4 196개 이미지 증 196개 이미지 생성\n",
      "NIA_SL_SEN0040_REAL10_F.mp4 201개 이미지 증 67개 이미지 생성\n",
      "NIA_SL_SEN0041_REAL06_F.mp4 204개 이미지 증 70개 이미지 생성\n",
      "NIA_SL_SEN0041_REAL10_F.mp4 200개 이미지 증 200개 이미지 생성\n",
      "NIA_SL_SEN0042_REAL06_F.mp4 213개 이미지 증 73개 이미지 생성\n",
      "NIA_SL_SEN0042_REAL10_F.mp4 198개 이미지 증 73개 이미지 생성\n",
      "NIA_SL_SEN0043_REAL06_F.mp4 272개 이미지 증 272개 이미지 생성\n",
      "NIA_SL_SEN0043_REAL10_F.mp4 232개 이미지 증 100개 이미지 생성\n",
      "NIA_SL_SEN0044_REAL06_F.mp4 275개 이미지 증 136개 이미지 생성\n",
      "NIA_SL_SEN0044_REAL10_F.mp4 222개 이미지 증 222개 이미지 생성\n",
      "NIA_SL_SEN0045_REAL06_F.mp4 176개 이미지 증 64개 이미지 생성\n",
      "NIA_SL_SEN0045_REAL10_F.mp4 178개 이미지 증 67개 이미지 생성\n",
      "NIA_SL_SEN0046_REAL06_F.mp4 197개 이미지 증 197개 이미지 생성\n",
      "NIA_SL_SEN0046_REAL10_F.mp4 169개 이미지 증 70개 이미지 생성\n",
      "NIA_SL_SEN0047_REAL06_F.mp4 215개 이미지 증 91개 이미지 생성\n",
      "NIA_SL_SEN0047_REAL10_F.mp4 185개 이미지 증 185개 이미지 생성\n",
      "NIA_SL_SEN0048_REAL06_F.mp4 265개 이미지 증 100개 이미지 생성\n",
      "NIA_SL_SEN0048_REAL10_F.mp4 219개 이미지 증 91개 이미지 생성\n",
      "NIA_SL_SEN0049_REAL06_F.mp4 169개 이미지 증 169개 이미지 생성\n",
      "NIA_SL_SEN0049_REAL10_F.mp4 157개 이미지 증 49개 이미지 생성\n",
      "NIA_SL_SEN0050_REAL06_F.mp4 201개 이미지 증 76개 이미지 생성\n",
      "NIA_SL_SEN0050_REAL10_F.mp4 186개 이미지 증 186개 이미지 생성\n",
      "NIA_SL_SEN0051_REAL06_F.mp4 207개 이미지 증 79개 이미지 생성\n",
      "NIA_SL_SEN0051_REAL10_F.mp4 180개 이미지 증 67개 이미지 생성\n",
      "NIA_SL_SEN0052_REAL06_F.mp4 258개 이미지 증 258개 이미지 생성\n",
      "NIA_SL_SEN0052_REAL10_F.mp4 206개 이미지 증 103개 이미지 생성\n",
      "NIA_SL_SEN0053_REAL06_F.mp4 227개 이미지 증 55개 이미지 생성\n",
      "NIA_SL_SEN0053_REAL10_F.mp4 175개 이미지 증 175개 이미지 생성\n",
      "NIA_SL_SEN0054_REAL06_F.mp4 222개 이미지 증 82개 이미지 생성\n",
      "NIA_SL_SEN0054_REAL10_F.mp4 190개 이미지 증 70개 이미지 생성\n",
      "NIA_SL_SEN0055_REAL06_F.mp4 217개 이미지 증 217개 이미지 생성\n",
      "NIA_SL_SEN0055_REAL10_F.mp4 191개 이미지 증 73개 이미지 생성\n",
      "NIA_SL_SEN0056_REAL06_F.mp4 231개 이미지 증 100개 이미지 생성\n",
      "NIA_SL_SEN0056_REAL10_F.mp4 198개 이미지 증 198개 이미지 생성\n",
      "NIA_SL_SEN0057_REAL06_F.mp4 164개 이미지 증 31개 이미지 생성\n",
      "NIA_SL_SEN0057_REAL10_F.mp4 156개 이미지 증 40개 이미지 생성\n",
      "NIA_SL_SEN0058_REAL06_F.mp4 195개 이미지 증 195개 이미지 생성\n",
      "NIA_SL_SEN0058_REAL10_F.mp4 166개 이미지 증 61개 이미지 생성\n",
      "NIA_SL_SEN0059_REAL06_F.mp4 201개 이미지 증 49개 이미지 생성\n",
      "NIA_SL_SEN0059_REAL10_F.mp4 175개 이미지 증 175개 이미지 생성\n",
      "NIA_SL_SEN0060_REAL06_F.mp4 203개 이미지 증 58개 이미지 생성\n",
      "NIA_SL_SEN0060_REAL10_F.mp4 166개 이미지 증 43개 이미지 생성\n"
     ]
    }
   ],
   "source": [
    "path = root + DATA + '/영상/'\n",
    "img_path = root + DATA + '/Image/'\n",
    "resize_img_path = root + DATA + '/Resize_Image/'\n",
    "video_count = 0\n",
    "for v, s, e in zip(video, start, end):\n",
    "    vidcap = cv2.VideoCapture(path + v)\n",
    "    count = -1\n",
    "    save_n = 0\n",
    "    while(vidcap.isOpened()):\n",
    "        if not(os.path.isdir(img_path + '%s' % v)): # 이미지 담길 폴더 이름은 영상 이름\n",
    "            os.makedirs(os.path.join(img_path + '%s' % v))\n",
    "        if not(os.path.isdir(resize_img_path + '%s' % v)): # 이미지 담길 폴더 이름은 영상 이름\n",
    "            os.makedirs(os.path.join(resize_img_path + '%s' % v))\n",
    " \n",
    "        count+=1\n",
    "        success, image = vidcap.read()\n",
    "        if success:\n",
    "            if video_count%3==0: # 여기에 3은 화자 인원에 따라서 조절\n",
    "                save_n+=1\n",
    "                img_file_name = v.split('.')[0]+'_'+str(count).zfill(12)+'_frame.png'\n",
    "                cv2.imwrite(img_path+v+'/'+img_file_name, image)\n",
    "                resize_image = cv2.resize(image, dsize=(512, 512))\n",
    "                cv2.imwrite(resize_img_path+v+'/'+img_file_name, resize_image)\n",
    "            elif s*30 <= count and count <= e*30:\n",
    "                save_n+=1\n",
    "                img_file_name = v.split('.')[0]+'_'+str(count).zfill(12)+'_frame.png'\n",
    "                cv2.imwrite(img_path+v+'/'+img_file_name, image)\n",
    "                resize_image = cv2.resize(image, dsize=(512, 512))\n",
    "                cv2.imwrite(resize_img_path+v+'/'+img_file_name, resize_image)    \n",
    "        else:\n",
    "            print('%s %d개 이미지 중 %d개 이미지 생성' %(v, count, save_n))\n",
    "            cv2.destroyAllWindows()\n",
    "            vidcap.release()\n",
    "    video_count+=1"
   ]
  },
  {
   "cell_type": "markdown",
   "metadata": {},
   "source": [
    "#### 이미지에 맞춰서 json도 삭제"
   ]
  },
  {
   "cell_type": "code",
   "execution_count": 12,
   "metadata": {},
   "outputs": [],
   "source": [
    "path = root + DATA + '/키포인트Json/'\n",
    "video_count = 0\n",
    "for v, s, e in zip(video, start, end):\n",
    "    json_file = path+v\n",
    "    if video_count%3!=0: # 키포인트 지울 거 있는것만 지워 # 여기에 3은 화자 인원에 따라서 조절\n",
    "        for i, json_file_name in enumerate(sorted(os.listdir(json_file))):\n",
    "            if i < s * 30 or e * 30 < i: # 종료 시간보다 전이거나 후면 삭제!\n",
    "                os.remove(path+v+'/'+json_file_name)\n",
    "    video_count+=1"
   ]
  },
  {
   "cell_type": "markdown",
   "metadata": {},
   "source": [
    "#### 화자 폴더 구분"
   ]
  },
  {
   "cell_type": "code",
   "execution_count": 13,
   "metadata": {},
   "outputs": [],
   "source": [
    "# 화자 종류!\n",
    "REAL = [\"REAL06\", \"REAL10\"]\n",
    "\n",
    "for real in REAL:\n",
    "    # Image 이동\n",
    "    mov_img = []\n",
    "    path = root + DATA + '/Image/'\n",
    "    mov_path = root + DATA + '/' + real + '/Image/'\n",
    "    if not(os.path.isdir(mov_path)):\n",
    "        os.makedirs(os.path.join(mov_path))\n",
    "    folders = os.listdir(path)\n",
    "    for folder in folders:\n",
    "        if real in folder:\n",
    "            mov_img.append(folder)\n",
    "    for mov in mov_img:\n",
    "        shutil.move(path+mov, mov_path+mov)\n",
    "        \n",
    "    # Resize Image 이동\n",
    "    mov_img = []\n",
    "    path = root + DATA + '/Resize_Image/'\n",
    "    mov_path = root + DATA + '/' + real + '/Resize_Image/'\n",
    "    if not(os.path.isdir(mov_path)):\n",
    "        os.makedirs(os.path.join(mov_path))\n",
    "    folders = os.listdir(path)\n",
    "    for folder in folders:\n",
    "        if real in folder:\n",
    "            mov_img.append(folder)\n",
    "    for mov in mov_img:\n",
    "        shutil.move(path+mov, mov_path+mov)\n",
    "        \n",
    "    # 키포인트 Json 이동\n",
    "    mov_img = []\n",
    "    path = root + DATA + '/키포인트Json/'\n",
    "    mov_path = root + DATA + '/' + real + '/키포인트Json/'\n",
    "    if not(os.path.isdir(mov_path)):\n",
    "        os.makedirs(os.path.join(mov_path))\n",
    "    folders = os.listdir(path)\n",
    "    for folder in folders:\n",
    "        if real in folder:\n",
    "            mov_img.append(folder)\n",
    "    for mov in mov_img:\n",
    "        shutil.move(path+mov, mov_path+mov)\n",
    "        \n",
    "    # 형태소 Json 이동\n",
    "    mov_img = []\n",
    "    path = root + DATA + '/형태소Json/'\n",
    "    mov_path = root + DATA + '/' + real + '/형태소Json/'\n",
    "    if not(os.path.isdir(mov_path)):\n",
    "        os.makedirs(os.path.join(mov_path))\n",
    "    folders = os.listdir(path)\n",
    "    for folder in folders:\n",
    "        if real in folder:\n",
    "            mov_img.append(folder)\n",
    "    for mov in mov_img:\n",
    "        shutil.move(path+mov, mov_path+mov)"
   ]
  },
  {
   "cell_type": "markdown",
   "metadata": {},
   "source": [
    "## 2. Keypoint json 전처리 Txt로 저장"
   ]
  },
  {
   "cell_type": "code",
   "execution_count": 16,
   "metadata": {},
   "outputs": [],
   "source": [
    "import glob\n",
    "import numpy as np"
   ]
  },
  {
   "cell_type": "code",
   "execution_count": 17,
   "metadata": {},
   "outputs": [
    {
     "data": {
      "text/plain": [
       "60"
      ]
     },
     "execution_count": 17,
     "metadata": {},
     "output_type": "execute_result"
    }
   ],
   "source": [
    "# 경로 설정 - 새로 해야되겠다!\n",
    "kp_path = root + DATA + '/키포인트Json' # 기존 키포인트 Json\n",
    "new_kp_dir = root + DATA + '/키포인트Txt' # 새로 저장할 키포인트 txt\n",
    "len(os.listdir(kp_path))"
   ]
  },
  {
   "cell_type": "markdown",
   "metadata": {},
   "source": [
    "#### 키포인트Json 폴더 아래 모든 json 파일 불러오기"
   ]
  },
  {
   "cell_type": "code",
   "execution_count": 18,
   "metadata": {},
   "outputs": [],
   "source": [
    "json_files = glob.glob(os.path.join(kp_path,'**','*.json'), recursive=True)"
   ]
  },
  {
   "cell_type": "code",
   "execution_count": 19,
   "metadata": {},
   "outputs": [
    {
     "data": {
      "text/plain": [
       "5606"
      ]
     },
     "execution_count": 19,
     "metadata": {},
     "output_type": "execute_result"
    }
   ],
   "source": [
    "len(json_files)"
   ]
  },
  {
   "cell_type": "markdown",
   "metadata": {},
   "source": [
    "#### keypoints 처리(연결, 0값제외, 값 채우기)"
   ]
  },
  {
   "cell_type": "code",
   "execution_count": 20,
   "metadata": {},
   "outputs": [],
   "source": [
    "keypointss = []\n",
    "ZERO = False\n",
    "for i, json_file in enumerate(json_files):\n",
    "    with open(json_file, \"r\") as keypoints_json:\n",
    "        data = json.load(keypoints_json)\n",
    " \n",
    "    # pose에서 생략 가능한 하반신 30-35, 39-44, 57-74\n",
    "    pose = data['people'][0]['pose_keypoints_2d']\n",
    "    pose = pose[:30]+pose[36:39]+pose[45:57] # pose 75개 -> 45개\n",
    "    face = data['people'][0]['face_keypoints_2d']\n",
    "    hand_left = data['people'][0]['hand_left_keypoints_2d']\n",
    "    hand_right = data['people'][0]['hand_right_keypoints_2d']\n",
    "    \n",
    "    # 전체 keypoints 합치고 confidence 값 제외\n",
    "    entire_keypoints = np.array(pose+face+hand_left+hand_right, dtype=np.float32).reshape(-1,3)[:,:2].flatten() # 254\n",
    "    keypointss.append(entire_keypoints) # 일단 keypointss 리스트에 다 저장 - 0값 채우기 위해서\n",
    "    \n",
    "    if i>1 and ZERO: # 앞에 0인 값이 있으면 i-2, i의 평균값으로 i-1의 0 채워주기\n",
    "        zero_tf = keypointss[i-1]==0\n",
    "        keypointss[i-1][zero_tf] = (keypointss[i-2][zero_tf]+keypointss[i][zero_tf])/2 # 앞,뒤 평균값으로 채워주기\n",
    "        ZERO = False\n",
    "        \n",
    "    if 0 in entire_keypoints: # 0이 있으면 ZERO!\n",
    "        ZERO = True"
   ]
  },
  {
   "cell_type": "markdown",
   "metadata": {},
   "source": [
    "#### 0~1 scaling\n",
    "- 이미지 크기 2048 1152\n",
    "- 여기서 1보다 큰 값은 이미지 밖에 찍히는 부분!"
   ]
  },
  {
   "cell_type": "code",
   "execution_count": 21,
   "metadata": {},
   "outputs": [],
   "source": [
    "def normalization(array):\n",
    "    scale_array = array.copy()\n",
    "    scale_array[::2] /= 2048 # x좌표\n",
    "    scale_array[1::2] /= 1152 # y좌표\n",
    "    return scale_array"
   ]
  },
  {
   "cell_type": "code",
   "execution_count": 22,
   "metadata": {},
   "outputs": [],
   "source": [
    "for json_file, keypoints in zip(json_files, keypointss):\n",
    "    if 0 in keypoints:\n",
    "        print(json_file, keypoints)\n",
    "        break"
   ]
  },
  {
   "cell_type": "markdown",
   "metadata": {},
   "source": [
    "#### 화자 구분 one-hot -- 화자 몇 명으로?"
   ]
  },
  {
   "cell_type": "code",
   "execution_count": 25,
   "metadata": {},
   "outputs": [],
   "source": [
    "def check_one_hot(file_name):\n",
    "    txt = file_name.split('_')[3]\n",
    "    tmp = []\n",
    "    for c in txt:\n",
    "        if c.isdigit():\n",
    "            tmp.append(c)\n",
    "    return int(''.join(tmp))"
   ]
  },
  {
   "cell_type": "code",
   "execution_count": 28,
   "metadata": {},
   "outputs": [],
   "source": [
    "# 화자 5명\n",
    "match = {1:1, 2:2, 5:3, 6:4, 10:5}"
   ]
  },
  {
   "cell_type": "markdown",
   "metadata": {},
   "source": [
    "#### 저장"
   ]
  },
  {
   "cell_type": "code",
   "execution_count": 32,
   "metadata": {},
   "outputs": [],
   "source": [
    "os.makedirs(new_kp_dir, exist_ok=True) # 폴더 만들고\n",
    "new_kp_dir = new_kp_dir + '/'\n",
    "for json_file, keypoints in zip(json_files, keypointss):\n",
    "    txt_file_name = os.path.basename(os.path.dirname(json_file))\n",
    "    \n",
    "    one_hot = [0 for i in range(5)]\n",
    "    person = check_one_hot(txt_file_name)\n",
    "    one_hot[match[person]-1] = 1\n",
    "    \n",
    "    f = open(new_kp_dir+txt_file_name[:-4]+'.txt', 'a')\n",
    "    # 저장\n",
    "    data = \"%s, \" %os.path.basename(json_file)[:-5] + ', '.join(list(map(str,normalization(keypoints)))) + ', '.join(list(map(str,one_hot))) +'\\n' # keypoints 값에 normalization 적용해서\n",
    "    f.write(data)\n",
    "    f.close()"
   ]
  },
  {
   "cell_type": "code",
   "execution_count": null,
   "metadata": {},
   "outputs": [],
   "source": []
  }
 ],
 "metadata": {
  "kernelspec": {
   "display_name": "Python 3",
   "language": "python",
   "name": "python3"
  },
  "language_info": {
   "codemirror_mode": {
    "name": "ipython",
    "version": 3
   },
   "file_extension": ".py",
   "mimetype": "text/x-python",
   "name": "python",
   "nbconvert_exporter": "python",
   "pygments_lexer": "ipython3",
   "version": "3.7.9"
  }
 },
 "nbformat": 4,
 "nbformat_minor": 4
}
