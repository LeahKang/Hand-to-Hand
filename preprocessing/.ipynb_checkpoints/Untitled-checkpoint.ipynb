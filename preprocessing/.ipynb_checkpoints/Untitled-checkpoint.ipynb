{
 "cells": [
  {
   "cell_type": "code",
   "execution_count": 57,
   "metadata": {},
   "outputs": [],
   "source": [
    "import json\n",
    "import os\n",
    "from collections import Counter\n",
    "\n",
    "# with를 이용해 파일을 연다.\n",
    "# json 파일은 같은 폴더에 있다고 가정!\n",
    "\n",
    "file_dir = \"../data/CROWD_REAL005/CROWD_REAL015/형태소Json/\"\n",
    "file_name = file_dir + \"NIA_SL_FS0572_CROWD10_F_morpheme.json\""
   ]
  },
  {
   "cell_type": "code",
   "execution_count": 58,
   "metadata": {},
   "outputs": [
    {
     "data": {
      "text/plain": [
       "1000"
      ]
     },
     "execution_count": 58,
     "metadata": {},
     "output_type": "execute_result"
    }
   ],
   "source": [
    "file_list = os.listdir(file_dir)\n",
    "len(file_list)"
   ]
  },
  {
   "cell_type": "code",
   "execution_count": 64,
   "metadata": {},
   "outputs": [
    {
     "name": "stdout",
     "output_type": "stream",
     "text": [
      "../data/CROWD_REAL005/CROWD_REAL015/형태소Json/NIA_SL_FS0713_CROWD12_F_morpheme.json\n"
     ]
    }
   ],
   "source": [
    "words = []\n",
    "for file in file_list:\n",
    "    file_name = file_dir + file\n",
    "    with open(file_name) as json_file:\n",
    "        try:\n",
    "            json_data = json.load(json_file)\n",
    "            json_string = json_data[\"data\"]\n",
    "            word = json_string[0]['attributes'][0]['name']\n",
    "            words.append(word)\n",
    "        except:\n",
    "            print(file_name)"
   ]
  },
  {
   "cell_type": "code",
   "execution_count": 60,
   "metadata": {},
   "outputs": [
    {
     "data": {
      "text/plain": [
       "Counter({'낙산공원': 7,\n",
       "         '남한산성': 7,\n",
       "         '숭례문': 7,\n",
       "         '석촌호수': 4,\n",
       "         '난지캠핑장': 11,\n",
       "         '흑석로': 10,\n",
       "         '보신각': 13,\n",
       "         '동대문디자인플라자': 9,\n",
       "         '북촌한옥마을': 9,\n",
       "         '대학로': 7,\n",
       "         '서울랜드': 9,\n",
       "         '국립민속박물관': 10,\n",
       "         '국립중앙박물관': 9,\n",
       "         '희우정로': 7,\n",
       "         'N서울타워': 10,\n",
       "         '국립서울현충원': 6,\n",
       "         '여의도공원': 7,\n",
       "         '광장시장': 7,\n",
       "         '신촌': 11,\n",
       "         '후암로': 8,\n",
       "         '인사동': 9,\n",
       "         '휘경로': 7,\n",
       "         '북한산': 13,\n",
       "         '경복궁': 9,\n",
       "         '독립문': 9,\n",
       "         '남산공원': 10,\n",
       "         '익선동한옥마을': 10,\n",
       "         '관악산': 12,\n",
       "         '이대': 9,\n",
       "         '덕수궁': 7,\n",
       "         '흥천사길': 9,\n",
       "         '봉은사': 10,\n",
       "         '도산공원': 6,\n",
       "         '선정릉': 9,\n",
       "         '서대문형문소': 8,\n",
       "         '속성': 11,\n",
       "         '삼청동': 9,\n",
       "         '북한산성': 8,\n",
       "         '경리단길': 9,\n",
       "         '수려문': 3,\n",
       "         '도봉산': 8,\n",
       "         '경희궁': 8,\n",
       "         '이태원': 7,\n",
       "         '세빛섬': 10,\n",
       "         '운현궁': 7,\n",
       "         '흑석한강로': 8,\n",
       "         '송파나루공원': 6,\n",
       "         '예술의전당': 8,\n",
       "         '효창원로': 1,\n",
       "         '서울광장': 12,\n",
       "         '서대문형무소': 1,\n",
       "         '인왕산': 2})"
      ]
     },
     "execution_count": 60,
     "metadata": {},
     "output_type": "execute_result"
    }
   ],
   "source": [
    "Counter(words)"
   ]
  },
  {
   "cell_type": "code",
   "execution_count": null,
   "metadata": {},
   "outputs": [],
   "source": []
  }
 ],
 "metadata": {
  "kernelspec": {
   "display_name": "Python 3",
   "language": "python",
   "name": "python3"
  },
  "language_info": {
   "codemirror_mode": {
    "name": "ipython",
    "version": 3
   },
   "file_extension": ".py",
   "mimetype": "text/x-python",
   "name": "python",
   "nbconvert_exporter": "python",
   "pygments_lexer": "ipython3",
   "version": "3.7.6"
  }
 },
 "nbformat": 4,
 "nbformat_minor": 4
}
